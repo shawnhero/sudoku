{
 "metadata": {
  "name": "",
  "signature": "sha256:1d83654766071a39e40058b714b0ae6ca2e5c9aae4d55fd665f3ba49a827957c"
 },
 "nbformat": 3,
 "nbformat_minor": 0,
 "worksheets": [
  {
   "cells": [
    {
     "cell_type": "markdown",
     "metadata": {},
     "source": [
      "#Concepts\n",
      "\n",
      "- Square `A single element of the sudoku.`\n",
      "- Units  `row, col, and 3*3 it belongs to. Should be a list of a list of peer squares`\n",
      "- Peers"
     ]
    },
    {
     "cell_type": "code",
     "collapsed": false,
     "input": [
      "import csv\n",
      "import sys\n",
      "\n",
      "import timeit"
     ],
     "language": "python",
     "metadata": {},
     "outputs": [],
     "prompt_number": 1
    },
    {
     "cell_type": "markdown",
     "metadata": {},
     "source": [
      "#Define notions"
     ]
    },
    {
     "cell_type": "code",
     "collapsed": false,
     "input": [
      "def cross(A, B):\n",
      "    return [a+b for a in A for b in B]\n",
      "\n",
      "rows = 'ABCDEFGHI'\n",
      "cols = '123456789'\n",
      "squares = cross(rows, cols)\n",
      "rowlist = [cross(row, cols) for row in rows]\n",
      "collist = [cross(rows, col) for col in cols]\n",
      "sublist = [cross(r, c) for r in ['ABC', 'DEF', 'GHI'] for c in ['123', '456', '789']]\n",
      "unitlist = rowlist + collist + sublist\n",
      "\n",
      "## units: dict; key: some square; val: unitlist it belongs to\n",
      "units = dict([key, [r for r in unitlist if key in r]] for key in squares)\n",
      "## peers: dict; key: some square; val: a set of peers\n",
      "peers = dict([key, set(sum(units[key],[]))-set([key])] for key in squares)"
     ],
     "language": "python",
     "metadata": {},
     "outputs": [],
     "prompt_number": 2
    },
    {
     "cell_type": "markdown",
     "metadata": {},
     "source": [
      "#Load the File"
     ]
    },
    {
     "cell_type": "code",
     "collapsed": false,
     "input": [
      "import csv\n",
      "\n",
      "def convert(str):\n",
      "    return str if str!='0' else '123456789'\n",
      "with open('tests/input.csv','r') as myfile:\n",
      "    myfile = csv.reader(myfile)\n",
      "    raw = [row for row in myfile]\n",
      "    sudoku = dict([key, convert(\n",
      "            raw[ord(key[0])-ord('A')][int(key[1])-1]\n",
      "            )] for key in squares)"
     ],
     "language": "python",
     "metadata": {},
     "outputs": [],
     "prompt_number": 31
    },
    {
     "cell_type": "markdown",
     "metadata": {},
     "source": [
      "#Do the first elimination"
     ]
    },
    {
     "cell_type": "code",
     "collapsed": false,
     "input": [
      "for key in sudoku:\n",
      "    if sudoku[key] == '123456789':\n",
      "        for d in peers[key]:\n",
      "            if len(sudoku[d])==1:\n",
      "                sudoku[key] = sudoku[key].replace(sudoku[d], '')"
     ],
     "language": "python",
     "metadata": {},
     "outputs": [],
     "prompt_number": 32
    },
    {
     "cell_type": "markdown",
     "metadata": {},
     "source": [
      "#Display The Sudoku"
     ]
    },
    {
     "cell_type": "code",
     "collapsed": false,
     "input": [
      "def display(values):\n",
      "    \"Display these values as a 2-D grid.\"\n",
      "    width = 1+max(len(values[s]) for s in squares)\n",
      "    line = '+'.join(['-'*(width*3)]*3)\n",
      "    for r in rows:\n",
      "        print ''.join(values[r+c].center(width)+('|' if c in '36' else '')\n",
      "                      for c in cols)\n",
      "        if r in 'CF': print line\n",
      "display(sudoku)    "
     ],
     "language": "python",
     "metadata": {},
     "outputs": [
      {
       "output_type": "stream",
       "stream": "stdout",
       "text": [
        " 1   3   5  | 2   9   7  | 8   6   4  \n",
        " 9   8   2  | 4   1   6  | 7   5   3  \n",
        " 7   6   4  | 3   8   5  | 1   9  125 \n",
        "------------+------------+------------\n",
        " 2   1   8  | 7   3   9  | 6   4   5  \n",
        "569  9   7  | 8   6   4  | 2   3   1  \n",
        " 6   4   3  | 1   5   2  | 9   7   18 \n",
        "------------+------------+------------\n",
        " 4   2   6  | 5   7   1  | 3   8   9  \n",
        " 3   5   9  | 6   2   8  | 4   1   7  \n",
        " 8   7   1  | 9   4   3  | 5   2   6  \n"
       ]
      }
     ],
     "prompt_number": 33
    },
    {
     "cell_type": "markdown",
     "metadata": {},
     "source": [
      "#Constrained Propagation \n",
      "1. If a square has only one possible value, then eliminate that value from the square's peers. \n",
      "2. If a unit has only one possible place for a value, then put the value there."
     ]
    },
    {
     "cell_type": "code",
     "collapsed": false,
     "input": [
      "#assign sudoku[key] to be d\n",
      "def assign(sudoku, key, d):\n",
      "    print \"Assigning \", key, \" with value\", d\n",
      "    # assgining is equal to eliminate all the others one by one\n",
      "    allother = sudoku[key].replace(d,'')\n",
      "    ##print allother\n",
      "    if all(eliminate(sudoku, key, other) for other in allother):\n",
      "        return sudoku\n",
      "    return False\n",
      "    \n",
      "           \n",
      "## do a elimination of d from sudoku[key]\n",
      "def eliminate(sudoku, key, d):\n",
      "    print \"Eliminating \", d, 'from ', sudoku[key]\n",
      "    if d not in sudoku[key]:\n",
      "        # already elminated\n",
      "        return sudoku\n",
      "    sudoku[key] = sudoku[key].replace(d, '')\n",
      "    ##print \"Now it becomes\", sudoku[key]\n",
      "    val = sudoku[key]\n",
      "    if len(val)==0:\n",
      "        print 'Cannot Eliminate the only value'\n",
      "        return False\n",
      "    if len(val)==1:\n",
      "        # eliminate all the peers\n",
      "        if not all(eliminate(sudoku, p, val) for p in peers[key]):\n",
      "            return False\n",
      "    # now we check all the units if some square becomes certain\n",
      "    for u in units[key]:\n",
      "        places = [e for e in u if d in sudoku[e]]\n",
      "        if len(places)==0:\n",
      "            print \"Conflict in this unit! No place for \", d\n",
      "            return False\n",
      "        if len(places)==1:\n",
      "            print \"Only one place for \", d, \"Assigning..\"\n",
      "            return assign(sudoku, places[0], d)\n",
      "    return sudoku"
     ],
     "language": "python",
     "metadata": {},
     "outputs": [],
     "prompt_number": 38
    },
    {
     "cell_type": "code",
     "collapsed": false,
     "input": [
      "display(sudoku)"
     ],
     "language": "python",
     "metadata": {},
     "outputs": [
      {
       "output_type": "stream",
       "stream": "stdout",
       "text": [
        " 1   3   5  | 2   9   7  | 8   6   4  \n",
        " 9   8   2  | 4   1   6  | 7   5   3  \n",
        " 7   6   4  | 3   8   5  | 1   9  125 \n",
        "------------+------------+------------\n",
        " 2   1   8  | 7   3   9  | 6   4   5  \n",
        "569  9   7  | 8   6   4  | 2   3   1  \n",
        " 6   4   3  | 1   5   2  | 9   7   18 \n",
        "------------+------------+------------\n",
        " 4   2   6  | 5   7   1  | 3   8   9  \n",
        " 3   5   9  | 6   2   8  | 4   1   7  \n",
        " 8   7   1  | 9   4   3  | 5   2   6  \n"
       ]
      }
     ],
     "prompt_number": 39
    },
    {
     "cell_type": "markdown",
     "metadata": {},
     "source": [
      "#Search Part"
     ]
    },
    {
     "cell_type": "markdown",
     "metadata": {},
     "source": [
      "Variable Order: \n",
      "1. the shortest, the first\n",
      "2. avoid intersection"
     ]
    },
    {
     "cell_type": "code",
     "collapsed": false,
     "input": [
      "countnum = 2\n",
      "def minLenKey(s):\n",
      "    return min(s, key=lambda x: len(s[x]) if len(s[x])!=1 else 10)\n",
      "    \n",
      "def solve(sudoku):\n",
      "    return search(sudoku, minLenKey(sudoku))\n",
      "\n",
      "def search(values, skey, level=0):\n",
      "    print level\n",
      "    global countnum\n",
      "    countnum = countnum + 1\n",
      "    if(len(values[minLenKey(values)])==1):\n",
      "        ## solved! search end\n",
      "        return values\n",
      "    deads = 0\n",
      "    for i in values[skey]:\n",
      "        assigned = assign(values.copy(), skey, i)\n",
      "        if assigned:\n",
      "            # continue search\n",
      "            result = search(assigned, minLenKey(assigned), level+1)\n",
      "            if result:\n",
      "                return result\n",
      "            else:\n",
      "                deads +=1\n",
      "        else:\n",
      "            deads +=1\n",
      "    if deads==len(values[skey]):\n",
      "        return False"
     ],
     "language": "python",
     "metadata": {},
     "outputs": [],
     "prompt_number": 40
    },
    {
     "cell_type": "code",
     "collapsed": false,
     "input": [
      "start = timeit.default_timer()\n",
      "a = solve(sudoku.copy())\n",
      "stop = timeit.default_timer()\n",
      "print \"Time Used,\", round(stop - start, 4)\n",
      "print \"Num of searches\", countnum"
     ],
     "language": "python",
     "metadata": {},
     "outputs": [
      {
       "output_type": "stream",
       "stream": "stdout",
       "text": [
        "0\n",
        "Assigning  F9  with value 1\n",
        "Eliminating  8 from  18\n",
        "Eliminating  1 from  6\n",
        "Eliminating  1 from  6\n",
        "Eliminating  1 from  4\n",
        "Eliminating  1 from  3\n",
        "Eliminating  1 from  1\n",
        "Cannot Eliminate the only value\n",
        "Assigning  F9  with value 8\n",
        "Eliminating  1 from  18\n",
        "Eliminating  8 from  6\n",
        "Eliminating  8 from  6\n",
        "Eliminating  8 from  4\n",
        "Eliminating  8 from  3\n",
        "Eliminating  8 from  1\n",
        "Eliminating  8 from  5\n",
        "Eliminating  8 from  2\n",
        "Eliminating  8 from  9\n",
        "Eliminating  8 from  7\n",
        "Eliminating  8 from  9\n",
        "Eliminating  8 from  125\n",
        "Eliminating  8 from  7\n",
        "Eliminating  8 from  1\n",
        "Eliminating  8 from  3\n",
        "Eliminating  8 from  4\n",
        "Eliminating  8 from  5\n",
        "Eliminating  8 from  4\n",
        "Eliminating  8 from  6\n",
        "Eliminating  8 from  2\n",
        "Eliminating  8 from  3\n",
        "Only one place for  1 Assigning..\n",
        "Assigning  F4  with value 1\n",
        "1\n",
        "Assigning  C9  with value 1\n",
        "Eliminating  2 from  125\n",
        "Conflict in this unit! No place for  2\n",
        "Assigning  C9  with value 2\n",
        "Eliminating  1 from  125\n",
        "Only one place for  1 Assigning..\n",
        "Assigning  C7  with value 1\n",
        "Eliminating  5 from  25\n",
        "Eliminating  2 from  6\n",
        "Eliminating  2 from  7\n",
        "Eliminating  2 from  1\n",
        "Eliminating  2 from  6\n",
        "Eliminating  2 from  8\n",
        "Eliminating  2 from  9\n",
        "Eliminating  2 from  5\n",
        "Eliminating  2 from  4\n",
        "Eliminating  2 from  7\n",
        "Eliminating  2 from  1\n",
        "Eliminating  2 from  8\n",
        "Eliminating  2 from  5\n",
        "Eliminating  2 from  4\n",
        "Eliminating  2 from  6\n",
        "Eliminating  2 from  7\n",
        "Eliminating  2 from  3\n",
        "Eliminating  2 from  5\n",
        "Eliminating  2 from  3\n",
        "Eliminating  2 from  8\n",
        "Eliminating  2 from  9\n",
        "Only one place for  5 Assigning..\n",
        "Assigning  C6  with value 5\n",
        "2\n",
        "Assigning  E1  with value 5\n",
        "Eliminating  6 from  569\n",
        "Only one place for  6 Assigning..\n",
        "Assigning  E5  with value 6\n",
        "Eliminating  9 from  59\n",
        "Eliminating  5 from  6\n",
        "Eliminating  5 from  4\n",
        "Eliminating  5 from  3\n",
        "Eliminating  5 from  4\n",
        "Eliminating  5 from  8\n",
        "Eliminating  5 from  3\n",
        "Eliminating  5 from  9\n",
        "Eliminating  5 from  1\n",
        "Eliminating  5 from  3\n",
        "Eliminating  5 from  7\n",
        "Eliminating  5 from  1\n",
        "Eliminating  5 from  9\n",
        "Eliminating  5 from  6\n",
        "Eliminating  5 from  8\n",
        "Eliminating  5 from  2\n",
        "Eliminating  5 from  4\n",
        "Eliminating  5 from  1\n",
        "Eliminating  5 from  8\n",
        "Eliminating  5 from  7\n",
        "Eliminating  5 from  2\n",
        "Only one place for  9 Assigning..\n",
        "Assigning  E2  with value 9\n",
        "3\n",
        "Time Used, 0.0052\n",
        "Num of searches 6\n"
       ]
      }
     ],
     "prompt_number": 41
    },
    {
     "cell_type": "code",
     "collapsed": false,
     "input": [
      "display(a)"
     ],
     "language": "python",
     "metadata": {},
     "outputs": [
      {
       "output_type": "stream",
       "stream": "stdout",
       "text": [
        "1 3 5 |2 9 7 |8 6 4 \n",
        "9 8 2 |4 1 6 |7 5 3 \n",
        "7 6 4 |3 8 5 |1 9 2 \n",
        "------+------+------\n",
        "2 1 8 |7 3 9 |6 4 5 \n",
        "5 9 7 |8 6 4 |2 3 1 \n",
        "6 4 3 |1 5 2 |9 7 8 \n",
        "------+------+------\n",
        "4 2 6 |5 7 1 |3 8 9 \n",
        "3 5 9 |6 2 8 |4 1 7 \n",
        "8 7 1 |9 4 3 |5 2 6 \n"
       ]
      }
     ],
     "prompt_number": 42
    },
    {
     "cell_type": "code",
     "collapsed": false,
     "input": [
      "b = [[1,2],[2]]\n",
      "[len(r) for r in b]\n",
      "[[a[r] for r in cross(r,cols)] for r in rows]"
     ],
     "language": "python",
     "metadata": {},
     "outputs": [
      {
       "metadata": {},
       "output_type": "pyout",
       "prompt_number": 16,
       "text": [
        "[['4', '1', '7', '3', '6', '9', '8', '2', '5'],\n",
        " ['6', '3', '2', '1', '5', '8', '9', '4', '7'],\n",
        " ['9', '5', '8', '7', '2', '4', '3', '1', '6'],\n",
        " ['8', '2', '5', '4', '3', '7', '1', '6', '9'],\n",
        " ['7', '9', '1', '5', '8', '6', '4', '3', '2'],\n",
        " ['3', '4', '6', '9', '1', '2', '7', '5', '8'],\n",
        " ['2', '8', '9', '6', '4', '3', '5', '7', '1'],\n",
        " ['5', '7', '3', '2', '9', '1', '6', '8', '4'],\n",
        " ['1', '6', '4', '8', '7', '5', '2', '9', '3']]"
       ]
      }
     ],
     "prompt_number": 16
    },
    {
     "cell_type": "code",
     "collapsed": false,
     "input": [
      "def save():\n",
      "    with open('solution.csv', 'w') as csvfile:\n",
      "        mywriter = csv.writer(csvfile)\n",
      "        table = [[a[r] for r in cross(r,cols)] for r in rows]\n",
      "        mywriter.writerows(table)"
     ],
     "language": "python",
     "metadata": {},
     "outputs": [],
     "prompt_number": 23
    },
    {
     "cell_type": "code",
     "collapsed": false,
     "input": [
      "save()"
     ],
     "language": "python",
     "metadata": {},
     "outputs": [],
     "prompt_number": 24
    },
    {
     "cell_type": "code",
     "collapsed": false,
     "input": [],
     "language": "python",
     "metadata": {},
     "outputs": []
    }
   ],
   "metadata": {}
  }
 ]
}